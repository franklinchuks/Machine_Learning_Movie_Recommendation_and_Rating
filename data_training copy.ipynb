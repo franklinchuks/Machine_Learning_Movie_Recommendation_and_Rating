{
 "cells": [
  {
   "cell_type": "markdown",
   "metadata": {},
   "source": [
    "<h1>Movie Genius!</h1>"
   ]
  },
  {
   "cell_type": "markdown",
   "metadata": {},
   "source": [
    "<h3>Load Raw Data"
   ]
  },
  {
   "cell_type": "code",
   "execution_count": 1,
   "metadata": {},
   "outputs": [],
   "source": [
    "%run data_preprocessing.ipynb"
   ]
  },
  {
   "cell_type": "markdown",
   "metadata": {},
   "source": [
    "<h3>Data preprocessing"
   ]
  },
  {
   "cell_type": "code",
   "execution_count": 2,
   "metadata": {},
   "outputs": [
    {
     "data": {
      "text/html": [
       "<div>\n",
       "<style scoped>\n",
       "    .dataframe tbody tr th:only-of-type {\n",
       "        vertical-align: middle;\n",
       "    }\n",
       "\n",
       "    .dataframe tbody tr th {\n",
       "        vertical-align: top;\n",
       "    }\n",
       "\n",
       "    .dataframe thead th {\n",
       "        text-align: right;\n",
       "    }\n",
       "</style>\n",
       "<table border=\"1\" class=\"dataframe\">\n",
       "  <thead>\n",
       "    <tr style=\"text-align: right;\">\n",
       "      <th></th>\n",
       "      <th>title</th>\n",
       "      <th>genres</th>\n",
       "      <th>cast</th>\n",
       "      <th>director</th>\n",
       "      <th>keywords</th>\n",
       "      <th>budget</th>\n",
       "      <th>revenue</th>\n",
       "      <th>vote_count</th>\n",
       "      <th>rating</th>\n",
       "    </tr>\n",
       "  </thead>\n",
       "  <tbody>\n",
       "    <tr>\n",
       "      <th>0</th>\n",
       "      <td>Avatar</td>\n",
       "      <td>['Action', 'Adventure', 'Fantasy', 'Science Fi...</td>\n",
       "      <td>['Sam Worthington', 'Zoe Saldana', 'Sigourney ...</td>\n",
       "      <td>James Cameron</td>\n",
       "      <td>['culture clash', 'future', 'space war', 'spac...</td>\n",
       "      <td>237000000</td>\n",
       "      <td>2787965087</td>\n",
       "      <td>11800</td>\n",
       "      <td>7.2</td>\n",
       "    </tr>\n",
       "  </tbody>\n",
       "</table>\n",
       "</div>"
      ],
      "text/plain": [
       "    title                                             genres  \\\n",
       "0  Avatar  ['Action', 'Adventure', 'Fantasy', 'Science Fi...   \n",
       "\n",
       "                                                cast       director  \\\n",
       "0  ['Sam Worthington', 'Zoe Saldana', 'Sigourney ...  James Cameron   \n",
       "\n",
       "                                            keywords     budget     revenue  \\\n",
       "0  ['culture clash', 'future', 'space war', 'spac...  237000000  2787965087   \n",
       "\n",
       "   vote_count  rating  \n",
       "0       11800     7.2  "
      ]
     },
     "execution_count": 2,
     "metadata": {},
     "output_type": "execute_result"
    }
   ],
   "source": [
    "movies.head(1)"
   ]
  },
  {
   "cell_type": "markdown",
   "metadata": {},
   "source": [
    "<h3>Feature Exraction"
   ]
  },
  {
   "cell_type": "code",
   "execution_count": 18,
   "metadata": {},
   "outputs": [],
   "source": [
    "import pandas as pd\n",
    "from sklearn.preprocessing import MultiLabelBinarizer\n",
    "from sklearn.model_selection import train_test_split\n",
    "from sklearn.preprocessing import StandardScaler\n",
    "\n",
    "m = movies.dropna()\n",
    "\n",
    "for col in ['genres', 'cast', 'director', 'keywords']:\n",
    "    m[col] = m[col].str.split(',').apply(lambda x: [i.strip('[]') for i in x])\n",
    "\n",
    "columns_to_process = ['genres', 'cast', 'director', 'keywords']\n",
    "\n",
    "mlb = MultiLabelBinarizer()\n",
    "\n",
    "for column in columns_to_process:\n",
    "    m = m.join(pd.DataFrame(mlb.fit_transform(m.pop(column)),\n",
    "                                      columns=[f\"{column}_{class_}\" for class_ in mlb.classes_],\n",
    "                                      index=m.index))"
   ]
  },
  {
   "cell_type": "code",
   "execution_count": 19,
   "metadata": {},
   "outputs": [
    {
     "data": {
      "text/html": [
       "<div>\n",
       "<style scoped>\n",
       "    .dataframe tbody tr th:only-of-type {\n",
       "        vertical-align: middle;\n",
       "    }\n",
       "\n",
       "    .dataframe tbody tr th {\n",
       "        vertical-align: top;\n",
       "    }\n",
       "\n",
       "    .dataframe thead th {\n",
       "        text-align: right;\n",
       "    }\n",
       "</style>\n",
       "<table border=\"1\" class=\"dataframe\">\n",
       "  <thead>\n",
       "    <tr style=\"text-align: right;\">\n",
       "      <th></th>\n",
       "      <th>title</th>\n",
       "      <th>budget</th>\n",
       "      <th>revenue</th>\n",
       "      <th>vote_count</th>\n",
       "      <th>rating</th>\n",
       "      <th>genres_ 'Action'</th>\n",
       "      <th>genres_ 'Adventure'</th>\n",
       "      <th>genres_ 'Animation'</th>\n",
       "      <th>genres_ 'Comedy'</th>\n",
       "      <th>genres_ 'Crime'</th>\n",
       "      <th>...</th>\n",
       "      <th>keywords_'wrestling'</th>\n",
       "      <th>keywords_'writing'</th>\n",
       "      <th>keywords_'wyoming'</th>\n",
       "      <th>keywords_'yacht'</th>\n",
       "      <th>keywords_'yakuza'</th>\n",
       "      <th>keywords_'yorkshire'</th>\n",
       "      <th>keywords_'yuppie'</th>\n",
       "      <th>keywords_'zombie'</th>\n",
       "      <th>keywords_'zoo'</th>\n",
       "      <th>keywords_'绝地奶霸'</th>\n",
       "    </tr>\n",
       "  </thead>\n",
       "  <tbody>\n",
       "    <tr>\n",
       "      <th>0</th>\n",
       "      <td>Avatar</td>\n",
       "      <td>237000000</td>\n",
       "      <td>2787965087</td>\n",
       "      <td>11800</td>\n",
       "      <td>7.2</td>\n",
       "      <td>0</td>\n",
       "      <td>1</td>\n",
       "      <td>0</td>\n",
       "      <td>0</td>\n",
       "      <td>0</td>\n",
       "      <td>...</td>\n",
       "      <td>0</td>\n",
       "      <td>0</td>\n",
       "      <td>0</td>\n",
       "      <td>0</td>\n",
       "      <td>0</td>\n",
       "      <td>0</td>\n",
       "      <td>0</td>\n",
       "      <td>0</td>\n",
       "      <td>0</td>\n",
       "      <td>0</td>\n",
       "    </tr>\n",
       "  </tbody>\n",
       "</table>\n",
       "<p>1 rows × 67001 columns</p>\n",
       "</div>"
      ],
      "text/plain": [
       "    title     budget     revenue  vote_count  rating  genres_ 'Action'  \\\n",
       "0  Avatar  237000000  2787965087       11800     7.2                 0   \n",
       "\n",
       "   genres_ 'Adventure'  genres_ 'Animation'  genres_ 'Comedy'  \\\n",
       "0                    1                    0                 0   \n",
       "\n",
       "   genres_ 'Crime'  ...  keywords_'wrestling'  keywords_'writing'  \\\n",
       "0                0  ...                     0                   0   \n",
       "\n",
       "   keywords_'wyoming'  keywords_'yacht'  keywords_'yakuza'  \\\n",
       "0                   0                 0                  0   \n",
       "\n",
       "   keywords_'yorkshire'  keywords_'yuppie'  keywords_'zombie'  keywords_'zoo'  \\\n",
       "0                     0                  0                  0               0   \n",
       "\n",
       "   keywords_'绝地奶霸'  \n",
       "0                0  \n",
       "\n",
       "[1 rows x 67001 columns]"
      ]
     },
     "execution_count": 19,
     "metadata": {},
     "output_type": "execute_result"
    }
   ],
   "source": [
    "m.head(1)"
   ]
  },
  {
   "cell_type": "markdown",
   "metadata": {},
   "source": [
    "<h3>Splitting into train and test sets"
   ]
  },
  {
   "cell_type": "code",
   "execution_count": 20,
   "metadata": {},
   "outputs": [],
   "source": [
    "y = m['rating']\n",
    "X = m.drop(columns = ['rating', 'title'], axis=1)\n",
    "X_train, X_test, y_train, y_test = train_test_split(X, y, test_size = 0.2, random_state = 1)\n",
    "\n",
    "# Feature scaling\n",
    "scaler = StandardScaler()\n",
    "X_train = scaler.fit_transform(X_train)\n",
    "X_test = scaler.transform(X_test)"
   ]
  },
  {
   "cell_type": "code",
   "execution_count": 21,
   "metadata": {},
   "outputs": [
    {
     "data": {
      "text/plain": [
       "0    7.2\n",
       "Name: rating, dtype: float64"
      ]
     },
     "execution_count": 21,
     "metadata": {},
     "output_type": "execute_result"
    }
   ],
   "source": [
    "y.head(1)"
   ]
  },
  {
   "cell_type": "code",
   "execution_count": 22,
   "metadata": {},
   "outputs": [
    {
     "data": {
      "text/html": [
       "<div>\n",
       "<style scoped>\n",
       "    .dataframe tbody tr th:only-of-type {\n",
       "        vertical-align: middle;\n",
       "    }\n",
       "\n",
       "    .dataframe tbody tr th {\n",
       "        vertical-align: top;\n",
       "    }\n",
       "\n",
       "    .dataframe thead th {\n",
       "        text-align: right;\n",
       "    }\n",
       "</style>\n",
       "<table border=\"1\" class=\"dataframe\">\n",
       "  <thead>\n",
       "    <tr style=\"text-align: right;\">\n",
       "      <th></th>\n",
       "      <th>budget</th>\n",
       "      <th>revenue</th>\n",
       "      <th>vote_count</th>\n",
       "      <th>genres_ 'Action'</th>\n",
       "      <th>genres_ 'Adventure'</th>\n",
       "      <th>genres_ 'Animation'</th>\n",
       "      <th>genres_ 'Comedy'</th>\n",
       "      <th>genres_ 'Crime'</th>\n",
       "      <th>genres_ 'Documentary'</th>\n",
       "      <th>genres_ 'Drama'</th>\n",
       "      <th>...</th>\n",
       "      <th>keywords_'wrestling'</th>\n",
       "      <th>keywords_'writing'</th>\n",
       "      <th>keywords_'wyoming'</th>\n",
       "      <th>keywords_'yacht'</th>\n",
       "      <th>keywords_'yakuza'</th>\n",
       "      <th>keywords_'yorkshire'</th>\n",
       "      <th>keywords_'yuppie'</th>\n",
       "      <th>keywords_'zombie'</th>\n",
       "      <th>keywords_'zoo'</th>\n",
       "      <th>keywords_'绝地奶霸'</th>\n",
       "    </tr>\n",
       "  </thead>\n",
       "  <tbody>\n",
       "    <tr>\n",
       "      <th>0</th>\n",
       "      <td>237000000</td>\n",
       "      <td>2787965087</td>\n",
       "      <td>11800</td>\n",
       "      <td>0</td>\n",
       "      <td>1</td>\n",
       "      <td>0</td>\n",
       "      <td>0</td>\n",
       "      <td>0</td>\n",
       "      <td>0</td>\n",
       "      <td>0</td>\n",
       "      <td>...</td>\n",
       "      <td>0</td>\n",
       "      <td>0</td>\n",
       "      <td>0</td>\n",
       "      <td>0</td>\n",
       "      <td>0</td>\n",
       "      <td>0</td>\n",
       "      <td>0</td>\n",
       "      <td>0</td>\n",
       "      <td>0</td>\n",
       "      <td>0</td>\n",
       "    </tr>\n",
       "  </tbody>\n",
       "</table>\n",
       "<p>1 rows × 66999 columns</p>\n",
       "</div>"
      ],
      "text/plain": [
       "      budget     revenue  vote_count  genres_ 'Action'  genres_ 'Adventure'  \\\n",
       "0  237000000  2787965087       11800                 0                    1   \n",
       "\n",
       "   genres_ 'Animation'  genres_ 'Comedy'  genres_ 'Crime'  \\\n",
       "0                    0                 0                0   \n",
       "\n",
       "   genres_ 'Documentary'  genres_ 'Drama'  ...  keywords_'wrestling'  \\\n",
       "0                      0                0  ...                     0   \n",
       "\n",
       "   keywords_'writing'  keywords_'wyoming'  keywords_'yacht'  \\\n",
       "0                   0                   0                 0   \n",
       "\n",
       "   keywords_'yakuza'  keywords_'yorkshire'  keywords_'yuppie'  \\\n",
       "0                  0                     0                  0   \n",
       "\n",
       "   keywords_'zombie'  keywords_'zoo'  keywords_'绝地奶霸'  \n",
       "0                  0               0                0  \n",
       "\n",
       "[1 rows x 66999 columns]"
      ]
     },
     "execution_count": 22,
     "metadata": {},
     "output_type": "execute_result"
    }
   ],
   "source": [
    "X.head(1)"
   ]
  },
  {
   "cell_type": "markdown",
   "metadata": {},
   "source": [
    "<h3>Supervised Learning"
   ]
  },
  {
   "cell_type": "markdown",
   "metadata": {},
   "source": [
    "<h4>For movie recommendations with KNN"
   ]
  },
  {
   "cell_type": "code",
   "execution_count": 23,
   "metadata": {},
   "outputs": [
    {
     "name": "stdout",
     "output_type": "stream",
     "text": [
      "Recommendations for Avatar:\n",
      "\n",
      "1: Megaforce, with distance of 0.9588232\n",
      "2: Think Like a Man, with distance of 0.9596972\n",
      "3: Tomorrowland, with distance of 0.9615161\n",
      "4: Snow White: A Tale of Terror, with distance of 0.9616133\n",
      "5: A Knight's Tale, with distance of 0.9619494\n",
      "6: Back to the Future Part II, with distance of 0.965907\n",
      "7: Listening, with distance of 0.9680489\n",
      "8: The Other Side of Heaven, with distance of 0.9703366\n",
      "9: Winter's Tale, with distance of 0.9711424\n",
      "10: Shine, with distance of 0.9783111\n"
     ]
    }
   ],
   "source": [
    "from sklearn.neighbors import NearestNeighbors\n",
    "\n",
    "model_knn = NearestNeighbors(metric='cosine', algorithm='brute')\n",
    "model_knn.fit(X_train)\n",
    "\n",
    "def recommend_movies(x=0):\n",
    "    # Get the top 10 nearest neighbors for the movie\n",
    "    distances, indices = model_knn.kneighbors(X_train[x, :].reshape(1, -1), n_neighbors = 11)\n",
    "    for i in range(0, len(distances.flatten())):\n",
    "        if i == 0:\n",
    "            print(f\"Recommendations for {m['title'].iloc[x]}:\\n\")\n",
    "        else:\n",
    "            print(f\"{i}: {m['title'].iloc[indices.flatten()[i]]}, with distance of {round(distances.flatten()[i], 7)}\")\n",
    "\n",
    "recommend_movies()"
   ]
  },
  {
   "cell_type": "markdown",
   "metadata": {},
   "source": [
    "<h3>For rating prediction"
   ]
  },
  {
   "cell_type": "markdown",
   "metadata": {},
   "source": [
    "Import all machine learning tools and functions required"
   ]
  },
  {
   "cell_type": "markdown",
   "metadata": {},
   "source": [
    "For KNN"
   ]
  },
  {
   "cell_type": "code",
   "execution_count": 26,
   "metadata": {},
   "outputs": [
    {
     "name": "stdout",
     "output_type": "stream",
     "text": [
      "For KNeighborsRegressor():\n",
      "\n",
      "Predicted rating for the movie Avatar is 6.16\n",
      "Actual Rating for the movie Avatar is 7.20\n",
      "\n",
      "With a mean squared error of 0.93 and mean absolute error of 0.76\n"
     ]
    }
   ],
   "source": [
    "from sklearn.neighbors import KNeighborsRegressor\n",
    "from sklearn.ensemble import RandomForestRegressor\n",
    "from sklearn.svm import SVR\n",
    "from sklearn.linear_model import LinearRegression, Ridge, Lasso\n",
    "from sklearn.metrics import mean_squared_error\n",
    "from sklearn.metrics import mean_absolute_error\n",
    "\n",
    "knn = KNeighborsRegressor(n_neighbors=5)\n",
    "knn.fit(X_train, y_train)\n",
    "\n",
    "#predict a movie rating\n",
    "def predict_rating(i=0, model=knn, y_test = y_test):\n",
    "    # Predict the response for test dataset\n",
    "    y_pred = model.predict(X_test)\n",
    "    # Evaluate the model\n",
    "    mse = mean_squared_error(y_test, y_pred)\n",
    "    mae = mean_absolute_error(y_test, y_pred)\n",
    "    # Extract the features for the specified index\n",
    "    movie_features = X_test[i, :].reshape(1, -1)\n",
    "    predicted_rating = model.predict(movie_features)\n",
    "    actual_rating = m['rating'][i]\n",
    "    print(f\"For {model}:\")\n",
    "    print(f\"\\nPredicted rating for the movie {m['title'][i]} is {predicted_rating[0]:.2f}\")\n",
    "    print(f\"Actual Rating for the movie {m['title'][i]} is {actual_rating:.2f}\")\n",
    "    print(f'\\nWith a mean squared error of {mse:.2f} and mean absolute error of {mae:.2f}')\n",
    "\n",
    "predict_rating()"
   ]
  },
  {
   "cell_type": "code",
   "execution_count": 27,
   "metadata": {},
   "outputs": [],
   "source": [
    "#import libraries\n",
    "from sklearn.model_selection import cross_val_score\n",
    "\n",
    "y_pred = knn.predict(X_test)\n",
    "y_test = pd.DataFrame(y_test).values.flatten()\n",
    "\n",
    "cv_r2 = cross_val_score(knn, X, y, cv=10, scoring='r2').mean()\n",
    "cv_mse = cross_val_score(knn, X, y, cv=10, scoring='neg_mean_squared_error').mean()\n",
    "\n",
    "plt.scatter(y_test, y_pred, alpha=0.5)\n",
    "plt.xlabel('Actual Rating')\n",
    "plt.ylabel('Predicted Rating')\n",
    "plt.title('KNN Model Ratings Prediction for All Movies')\n",
    "\n",
    "#regression line\n",
    "m, b = np.polyfit(y_test, y_pred, 1)\n",
    "plt.plot(y_test, m*y_test + b, color='red')\n",
    "\n",
    "#add the legends with the cross-validated r-square and mse\n",
    "plt.legend([f'CV R2 = {cv_r2:.2f}', f'CV MSE = {cv_mse:.2f}'], loc='best')\n",
    "\n",
    "plt.show()"
   ]
  },
  {
   "cell_type": "markdown",
   "metadata": {},
   "source": [
    "For Random forest"
   ]
  },
  {
   "cell_type": "code",
   "execution_count": null,
   "metadata": {},
   "outputs": [],
   "source": [
    "#rf_regressor\n",
    "rf_regressor = RandomForestRegressor(n_estimators=100)\n",
    "rf_regressor.fit(X_train, y_train)\n",
    "\n",
    "predict_rating(model=rf_regressor)"
   ]
  },
  {
   "cell_type": "code",
   "execution_count": null,
   "metadata": {},
   "outputs": [],
   "source": [
    "y_pred = rf_regressor.predict(X_test)\n",
    "y_test = pd.DataFrame(y_test).values.flatten()\n",
    "\n",
    "cv_r2 = cross_val_score(rf_regressor, X, y, cv=10, scoring='r2').mean()\n",
    "cv_mse = cross_val_score(rf_regressor, X, y, cv=10, scoring='neg_mean_squared_error').mean()\n",
    "\n",
    "plt.scatter(y_test, y_pred, alpha=0.5)\n",
    "plt.xlabel('Actual Rating')\n",
    "plt.ylabel('Predicted Rating')\n",
    "plt.title('RF Model Ratings Prediction for All Movies')\n",
    "\n",
    "#regression line\n",
    "m, b = np.polyfit(y_test, y_pred, 1)\n",
    "plt.plot(y_test, m*y_test + b, color='red')\n",
    "\n",
    "#add the legends with the cross-validated r-square and mse\n",
    "plt.legend([f'CV R2 = {cv_r2:.2f}', f'CV MSE = {cv_mse:.2f}'], loc='best')\n",
    "\n",
    "plt.show()"
   ]
  },
  {
   "cell_type": "markdown",
   "metadata": {},
   "source": [
    "For SVM"
   ]
  },
  {
   "cell_type": "code",
   "execution_count": null,
   "metadata": {},
   "outputs": [],
   "source": [
    "#svm_regressor\n",
    "svm_regressor = SVR(kernel='linear')\n",
    "svm_regressor.fit(X_train, y_train)\n",
    "\n",
    "predict_rating(model=svm_regressor)"
   ]
  },
  {
   "cell_type": "code",
   "execution_count": null,
   "metadata": {},
   "outputs": [],
   "source": [
    "y_pred = svm_regressor.predict(X_test)\n",
    "y_test = pd.DataFrame(y_test).values.flatten()\n",
    "\n",
    "cv_r2 = cross_val_score(svm_regressor, X, y, cv=10, scoring='r2').mean()\n",
    "cv_mse = cross_val_score(svm_regressor, X, y, cv=10, scoring='neg_mean_squared_error').mean()\n",
    "\n",
    "plt.scatter(y_test, y_pred, alpha=0.5)\n",
    "plt.xlabel('Actual Rating')\n",
    "plt.ylabel('Predicted Rating')\n",
    "plt.title('SVM Ratings Prediction for All Movies')\n",
    "\n",
    "#regression line\n",
    "m, b = np.polyfit(y_test, y_pred, 1)\n",
    "plt.plot(y_test, m*y_test + b, color='red')\n",
    "\n",
    "#add the legends with the cross-validated r-square and mse\n",
    "plt.legend([f'CV R2 = {cv_r2:.2f}', f'CV MSE = {cv_mse:.2f}'], loc='best')\n",
    "\n",
    "plt.show()"
   ]
  },
  {
   "cell_type": "markdown",
   "metadata": {},
   "source": [
    "For Linear regression"
   ]
  },
  {
   "cell_type": "code",
   "execution_count": null,
   "metadata": {},
   "outputs": [],
   "source": [
    "#linear_model\n",
    "linear_model = LinearRegression()\n",
    "linear_model.fit(X_train, y_train)\n",
    "\n",
    "predict_rating(model=linear_model)"
   ]
  },
  {
   "cell_type": "code",
   "execution_count": null,
   "metadata": {},
   "outputs": [],
   "source": [
    "y_pred = linear_model.predict(X_test)\n",
    "y_test = pd.DataFrame(y_test).values.flatten()\n",
    "\n",
    "cv_r2 = cross_val_score(linear_model, X, y, cv=10, scoring='r2').mean()\n",
    "cv_mse = cross_val_score(linear_model, X, y, cv=10, scoring='neg_mean_squared_error').mean()\n",
    "\n",
    "plt.scatter(y_test, y_pred, alpha=0.5)\n",
    "plt.xlabel('Actual Rating')\n",
    "plt.ylabel('Predicted Rating')\n",
    "plt.title('Linear Model Ratings Prediction for All Movies')\n",
    "\n",
    "#regression line\n",
    "m, b = np.polyfit(y_test, y_pred, 1)\n",
    "plt.plot(y_test, m*y_test + b, color='red')\n",
    "\n",
    "#add the legends with the cross-validated r-square and mse\n",
    "plt.legend([f'CV R2 = {cv_r2:.2f}', f'CV MSE = {cv_mse:.2f}'], loc='best')\n",
    "\n",
    "plt.show()"
   ]
  },
  {
   "cell_type": "markdown",
   "metadata": {},
   "source": [
    "For Ridge regression"
   ]
  },
  {
   "cell_type": "code",
   "execution_count": null,
   "metadata": {},
   "outputs": [],
   "source": [
    "#ridge_model\n",
    "ridge_model = Ridge(alpha=1.0)\n",
    "ridge_model.fit(X_train, y_train)\n",
    "\n",
    "predict_rating(model=ridge_model)"
   ]
  },
  {
   "cell_type": "code",
   "execution_count": null,
   "metadata": {},
   "outputs": [],
   "source": [
    "y_pred = ridge_model.predict(X_test)\n",
    "y_test = pd.DataFrame(y_test).values.flatten()\n",
    "\n",
    "cv_r2 = cross_val_score(ridge_model, X, y, cv=10, scoring='r2').mean()\n",
    "cv_mse = cross_val_score(ridge_model, X, y, cv=10, scoring='neg_mean_squared_error').mean()\n",
    "\n",
    "plt.scatter(y_test, y_pred, alpha=0.5)\n",
    "plt.xlabel('Actual Rating')\n",
    "plt.ylabel('Predicted Rating')\n",
    "plt.title('Ridge Model Ratings Prediction for All Movies')\n",
    "\n",
    "#regression line\n",
    "m, b = np.polyfit(y_test, y_pred, 1)\n",
    "plt.plot(y_test, m*y_test + b, color='red')\n",
    "\n",
    "#add the legends with the cross-validated r-square and mse\n",
    "plt.legend([f'CV R2 = {cv_r2:.2f}', f'CV MSE = {cv_mse:.2f}'], loc='best')\n",
    "\n",
    "plt.show()"
   ]
  },
  {
   "cell_type": "markdown",
   "metadata": {},
   "source": [
    "For Lasso regression"
   ]
  },
  {
   "cell_type": "code",
   "execution_count": null,
   "metadata": {},
   "outputs": [],
   "source": [
    "#lasso_model\n",
    "lasso_model = Lasso(alpha=1.0)\n",
    "lasso_model.fit(X_train, y_train)\n",
    "\n",
    "predict_rating(model=lasso_model)"
   ]
  },
  {
   "cell_type": "code",
   "execution_count": null,
   "metadata": {},
   "outputs": [],
   "source": [
    "y_pred = lasso_model.predict(X_test)\n",
    "y_test = pd.DataFrame(y_test).values.flatten()\n",
    "\n",
    "cv_r2 = cross_val_score(lasso_model, X, y, cv=10, scoring='r2').mean()\n",
    "cv_mse = cross_val_score(lasso_model, X, y, cv=10, scoring='neg_mean_squared_error').mean()\n",
    "\n",
    "plt.scatter(y_test, y_pred, alpha=0.5)\n",
    "plt.xlabel('Actual Rating')\n",
    "plt.ylabel('Predicted Rating')\n",
    "plt.title('Lasso Model Ratings Prediction for All Movies')\n",
    "\n",
    "#regression line\n",
    "m, b = np.polyfit(y_test, y_pred, 1)\n",
    "plt.plot(y_test, m*y_test + b, color='red')\n",
    "\n",
    "#add the legends with the cross-validated r-square and mse\n",
    "plt.legend([f'CV R2 = {cv_r2:.2f}', f'CV MSE = {cv_mse:.2f}'], loc='best')\n",
    "\n",
    "plt.show()"
   ]
  },
  {
   "cell_type": "markdown",
   "metadata": {},
   "source": [
    "Cross Validation"
   ]
  },
  {
   "cell_type": "code",
   "execution_count": null,
   "metadata": {},
   "outputs": [],
   "source": [
    "from sklearn.model_selection import cross_val_score, KFold\n",
    "\n",
    "models = {\n",
    "    'KNN': KNeighborsRegressor(n_neighbors=5),\n",
    "    'Random Forest': RandomForestRegressor(n_estimators=100),\n",
    "    'SVM': SVR(kernel='linear'),\n",
    "    'Linear Regression': LinearRegression(),\n",
    "    'Ridge Regression': Ridge(alpha=1.0),\n",
    "    'Lasso Regression': Lasso(alpha=1.0)\n",
    "}\n",
    "\n",
    "# Perform k-fold cross-validation for each model\n",
    "k_fold = KFold(n_splits=5, shuffle=True, random_state=1)\n",
    "\n",
    "for model_name, model in models.items():\n",
    "    # Cross-validation scores\n",
    "    cv_scores = cross_val_score(model, X_train, y_train, cv=k_fold, scoring='neg_mean_squared_error')\n",
    "    mse_cv = -cv_scores.mean()\n",
    "    print(f'Cross-Validated MSE for {model_name}: {mse_cv:.2f}')\n"
   ]
  },
  {
   "cell_type": "markdown",
   "metadata": {},
   "source": [
    "<h3>Unsupervised Learning</h3>"
   ]
  },
  {
   "cell_type": "markdown",
   "metadata": {},
   "source": [
    "For K-means clustering"
   ]
  },
  {
   "cell_type": "code",
   "execution_count": 68,
   "metadata": {},
   "outputs": [
    {
     "name": "stderr",
     "output_type": "stream",
     "text": [
      "/usr/local/lib/python3.11/site-packages/sklearn/cluster/_kmeans.py:1416: FutureWarning: The default value of `n_init` will change from 10 to 'auto' in 1.4. Set the value of `n_init` explicitly to suppress the warning\n",
      "  super()._check_params_vs_input(X, default_n_init=10)\n"
     ]
    },
    {
     "name": "stdout",
     "output_type": "stream",
     "text": [
      "               budget       revenue   vote_count  genres_ 'Action'  \\\n",
      "Cluster                                                              \n",
      "0.0      3.367455e+07  9.618942e+07   801.419036          0.090235   \n",
      "1.0      1.000000e+07  2.995811e+06   254.000000          0.000000   \n",
      "2.0      5.600000e+07  1.420446e+08   718.000000          0.000000   \n",
      "3.0      0.000000e+00  0.000000e+00    10.000000          0.000000   \n",
      "4.0      2.500000e+08  7.478628e+08  6032.000000          0.000000   \n",
      "\n",
      "         genres_ 'Adventure'  genres_ 'Animation'  genres_ 'Comedy'  \\\n",
      "Cluster                                                               \n",
      "0.0                 0.106551             0.025711          0.143881   \n",
      "1.0                 0.000000             0.000000          0.000000   \n",
      "2.0                 0.000000             0.000000          0.000000   \n",
      "3.0                 0.000000             0.000000          0.000000   \n",
      "4.0                 1.000000             0.000000          0.000000   \n",
      "\n",
      "         genres_ 'Crime'  genres_ 'Documentary'  genres_ 'Drama'  ...  \\\n",
      "Cluster                                                           ...   \n",
      "0.0             0.111248               0.002967         0.230902  ...   \n",
      "1.0             0.000000               0.000000         0.000000  ...   \n",
      "2.0             0.000000               0.000000         0.000000  ...   \n",
      "3.0             0.000000               0.000000         0.000000  ...   \n",
      "4.0             0.000000               0.000000         0.000000  ...   \n",
      "\n",
      "         keywords_'wrestling'  keywords_'writing'  keywords_'wyoming'  \\\n",
      "Cluster                                                                 \n",
      "0.0                  0.000247            0.000494            0.000247   \n",
      "1.0                  0.000000            0.000000            0.000000   \n",
      "2.0                  0.000000            0.000000            0.000000   \n",
      "3.0                  0.000000            0.000000            0.000000   \n",
      "4.0                  0.000000            0.000000            0.000000   \n",
      "\n",
      "         keywords_'yacht'  keywords_'yakuza'  keywords_'yorkshire'  \\\n",
      "Cluster                                                              \n",
      "0.0              0.000494           0.000494              0.000247   \n",
      "1.0              0.000000           0.000000              0.000000   \n",
      "2.0              0.000000           0.000000              0.000000   \n",
      "3.0              0.000000           0.000000              0.000000   \n",
      "4.0              0.000000           0.000000              0.000000   \n",
      "\n",
      "         keywords_'yuppie'  keywords_'zombie'  keywords_'zoo'  keywords_'绝地奶霸'  \n",
      "Cluster                                                                         \n",
      "0.0               0.000247           0.000494        0.000247         0.000247  \n",
      "1.0               0.000000           0.000000        0.000000         0.000000  \n",
      "2.0               0.000000           0.000000        0.000000         0.000000  \n",
      "3.0               0.000000           0.000000        0.000000         0.000000  \n",
      "4.0               0.000000           0.000000        0.000000         0.000000  \n",
      "\n",
      "[5 rows x 66999 columns]\n"
     ]
    }
   ],
   "source": [
    "#Kmeans clustering\n",
    "from sklearn.cluster import KMeans\n",
    "scaler = StandardScaler()\n",
    "X_scaled = scaler.fit_transform(X)\n",
    "kmeans = KMeans(n_clusters=5, random_state=1)\n",
    "cluster_labels = kmeans.fit_predict(X_scaled)\n",
    "\n",
    "# Add cluster labels to the original dataset\n",
    "data_with_clusters = pd.concat([pd.DataFrame(X), pd.Series(cluster_labels, name='Cluster')], axis=1)\n",
    "grouped_clusters = data_with_clusters.groupby('Cluster').mean()\n",
    "\n",
    "print(grouped_clusters)"
   ]
  },
  {
   "cell_type": "markdown",
   "metadata": {},
   "source": [
    "Graphical visualization"
   ]
  },
  {
   "cell_type": "code",
   "execution_count": 69,
   "metadata": {},
   "outputs": [
    {
     "data": {
      "image/png": "[encoded data removed]",
      "text/plain": [
       "<Figure size 1000x600 with 1 Axes>"
      ]
     },
     "metadata": {},
     "output_type": "display_data"
    }
   ],
   "source": [
    "import seaborn as sns\n",
    "\n",
    "# Scatter plot for budget vs. revenue colored by cluster\n",
    "plt.figure(figsize=(10, 6))\n",
    "sns.scatterplot(x='revenue', y='budget', hue='Cluster', data=data_with_clusters, palette='viridis', hue_order=[0.0, 1.0, 2.0, 3.0, 4.0])\n",
    "sns.regplot(x='revenue', y='budget', data=data_with_clusters, scatter=False, ci=None, color='orange')\n",
    "plt.title('Scatter Plot: Budget vs. Revenue by Cluster')\n",
    "plt.xlabel('Revenue')\n",
    "plt.ylabel('Budget')\n",
    "plt.show()"
   ]
  }
 ],
 "metadata": {
  "kernelspec": {
   "display_name": "Python 3",
   "language": "python",
   "name": "python3"
  },
  "language_info": {
   "codemirror_mode": {
    "name": "ipython",
    "version": 3
   },
   "file_extension": ".py",
   "mimetype": "text/x-python",
   "name": "python",
   "nbconvert_exporter": "python",
   "pygments_lexer": "ipython3",
   "version": "3.12.0"
  }
 },
 "nbformat": 4,
 "nbformat_minor": 2
}
