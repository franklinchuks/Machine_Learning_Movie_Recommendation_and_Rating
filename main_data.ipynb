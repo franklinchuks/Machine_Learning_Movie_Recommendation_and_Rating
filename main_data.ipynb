{
 "cells": [
  {
   "cell_type": "code",
   "execution_count": null,
   "metadata": {},
   "outputs": [],
   "source": [
    "import pandas as pd\n",
    "import json\n",
    "import matplotlib.pyplot as plt\n",
    "import numpy as np\n",
    "\n",
    "#link => https://www.kaggle.com/datasets/tmdb/tmdb-movie-metadata\n",
    "movies = pd.read_csv('tmdb_5000_movies.csv')\n",
    "credits = pd.read_csv('tmdb_5000_credits.csv')"
   ]
  },
  {
   "cell_type": "code",
   "execution_count": null,
   "metadata": {},
   "outputs": [],
   "source": [
    "#convert from json to strings\n",
    "movies['genres'] = movies['genres'].apply(json.loads)\n",
    "for index,i in zip(movies.index,movies['genres']):\n",
    "    list1 = []\n",
    "    for j in range(len(i)):\n",
    "        list1.append((i[j]['name']))\n",
    "    movies.loc[index,'genres'] = str(list1)\n",
    "\n",
    "credits['cast'] = credits['cast'].apply(json.loads)\n",
    "for index,i in zip(credits.index,credits['cast']):\n",
    "    list1 = []\n",
    "    for j in range(len(i)):\n",
    "        list1.append((i[j]['name']))\n",
    "    credits.loc[index,'cast'] = str(list1)\n",
    "\n",
    "credits['crew'] = credits['crew'].apply(json.loads)\n",
    "def director(x):\n",
    "    for i in x:\n",
    "        if i['job'] == 'Director':\n",
    "            return i['name']\n",
    "credits['crew'] = credits['crew'].apply(director)\n",
    "credits.rename(columns={'crew':'director'},inplace=True)\n",
    "\n",
    "movies['keywords'] = movies['keywords'].apply(json.loads)\n",
    "for index,i in zip(movies.index,movies['keywords']):\n",
    "    list1 = []\n",
    "    for j in range(len(i)):\n",
    "        list1.append((i[j]['name']))\n",
    "    movies.loc[index,'keywords'] = str(list1)\n",
    "\n",
    "#merging movies and credits df\n",
    "movies = movies.merge(credits,left_on='id',right_on='movie_id',how='left')\n",
    "\n",
    "#selecting only important columns\n",
    "movies = movies[['original_title', 'genres', 'cast', 'director', 'keywords', 'budget', 'revenue', 'vote_count', 'vote_average']]\n",
    "m = movies[['original_title', 'genres', 'cast', 'director', 'keywords', 'budget', 'revenue', 'vote_count', 'vote_average']]\n",
    "\n",
    "#rename title and rating column\n",
    "movies = movies.rename(columns={'original_title': 'title', 'vote_average': 'rating'})\n",
    "\n",
    "#remove []\n",
    "movies = movies[(movies[['genres', 'cast', 'director', 'keywords']] != '[]').all(axis=1) & (movies['rating'] != 0)].dropna()\n",
    "\n",
    "m = movies.dropna()"
   ]
  }
 ],
 "metadata": {
  "language_info": {
   "name": "python"
  }
 },
 "nbformat": 4,
 "nbformat_minor": 2
}
